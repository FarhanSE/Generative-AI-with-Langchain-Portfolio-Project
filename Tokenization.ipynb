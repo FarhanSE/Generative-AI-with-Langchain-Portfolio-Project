{
  "nbformat": 4,
  "nbformat_minor": 0,
  "metadata": {
    "colab": {
      "provenance": [],
      "authorship_tag": "ABX9TyNBBNhyAj/CS+/WjHugYEEL",
      "include_colab_link": true
    },
    "kernelspec": {
      "name": "python3",
      "display_name": "Python 3"
    },
    "language_info": {
      "name": "python"
    }
  },
  "cells": [
    {
      "cell_type": "markdown",
      "metadata": {
        "id": "view-in-github",
        "colab_type": "text"
      },
      "source": [
        "<a href=\"https://colab.research.google.com/github/FarhanSE/Generative-AI-with-Langchain-Portfolio-Project/blob/dev/Tokenization.ipynb\" target=\"_parent\"><img src=\"https://colab.research.google.com/assets/colab-badge.svg\" alt=\"Open In Colab\"/></a>"
      ]
    },
    {
      "cell_type": "code",
      "execution_count": 6,
      "metadata": {
        "id": "xbtijNKpcrVN"
      },
      "outputs": [],
      "source": [
        "!pip install nltk --quiet\n"
      ]
    },
    {
      "cell_type": "markdown",
      "source": [
        "## Corpus"
      ],
      "metadata": {
        "id": "bibpPEzrhamF"
      }
    },
    {
      "cell_type": "code",
      "source": [
        "corpus = \"\"\"\n",
        "Hello, It's Farhan here. I'm a software engineer and my expertise are in Python, Django, GIS, Databases, QGIS and Generative AI.\n",
        "\n",
        "I'm top rated at upwork and work as part-time freelancer.\n",
        "\"\"\""
      ],
      "metadata": {
        "id": "lLNK1FvchD8t"
      },
      "execution_count": 2,
      "outputs": []
    },
    {
      "cell_type": "markdown",
      "source": [
        "### Tokenization\n",
        "\n",
        "sentence to paragraphs"
      ],
      "metadata": {
        "id": "I27JfhDDxfZi"
      }
    },
    {
      "cell_type": "code",
      "source": [
        "from nltk.tokenize import sent_tokenize\n",
        "import nltk\n",
        "nltk.download('punkt')"
      ],
      "metadata": {
        "colab": {
          "base_uri": "https://localhost:8080/"
        },
        "id": "BnZywIzzxdqA",
        "outputId": "5ad58521-2015-49a0-93cc-8c32ac49f703"
      },
      "execution_count": 7,
      "outputs": [
        {
          "output_type": "stream",
          "name": "stderr",
          "text": [
            "[nltk_data] Downloading package punkt to /root/nltk_data...\n",
            "[nltk_data]   Unzipping tokenizers/punkt.zip.\n"
          ]
        },
        {
          "output_type": "execute_result",
          "data": {
            "text/plain": [
              "True"
            ]
          },
          "metadata": {},
          "execution_count": 7
        }
      ]
    },
    {
      "cell_type": "code",
      "source": [
        "paragraph = sent_tokenize(corpus)"
      ],
      "metadata": {
        "id": "5pFdPXxox3cN"
      },
      "execution_count": 8,
      "outputs": []
    },
    {
      "cell_type": "code",
      "source": [
        "paragraph"
      ],
      "metadata": {
        "colab": {
          "base_uri": "https://localhost:8080/"
        },
        "id": "xCtjlvkbx6WA",
        "outputId": "8b472bda-3113-41fc-b05b-fbfd095f6b53"
      },
      "execution_count": 9,
      "outputs": [
        {
          "output_type": "execute_result",
          "data": {
            "text/plain": [
              "[\"\\nHello, It's Farhan here.\",\n",
              " \"I'm a software engineer and my expertise are in Python, Django, GIS, Databases, QGIS and Generative AI.\",\n",
              " \"I'm top rated at upwork and work as part-time freelancer.\"]"
            ]
          },
          "metadata": {},
          "execution_count": 9
        }
      ]
    },
    {
      "cell_type": "markdown",
      "source": [
        "## Tokenizatio\n",
        "\n",
        "paragraph to words\n",
        "or\n",
        "sentence to words"
      ],
      "metadata": {
        "id": "G1Q9JIn1yaHJ"
      }
    },
    {
      "cell_type": "code",
      "source": [
        "from nltk.tokenize import word_tokenize, wordpunct_tokenize\n"
      ],
      "metadata": {
        "id": "WcLx8831yJr2"
      },
      "execution_count": 10,
      "outputs": []
    },
    {
      "cell_type": "code",
      "source": [
        "words = word_tokenize(corpus)"
      ],
      "metadata": {
        "id": "B-B9vTGz0klo"
      },
      "execution_count": 11,
      "outputs": []
    },
    {
      "cell_type": "code",
      "source": [
        "words"
      ],
      "metadata": {
        "colab": {
          "base_uri": "https://localhost:8080/"
        },
        "id": "tLMSyRTg0x_X",
        "outputId": "b4b8eaeb-091c-40f8-ab6d-301cc0fc903b"
      },
      "execution_count": 12,
      "outputs": [
        {
          "output_type": "execute_result",
          "data": {
            "text/plain": [
              "['Hello',\n",
              " ',',\n",
              " 'It',\n",
              " \"'s\",\n",
              " 'Farhan',\n",
              " 'here',\n",
              " '.',\n",
              " 'I',\n",
              " \"'m\",\n",
              " 'a',\n",
              " 'software',\n",
              " 'engineer',\n",
              " 'and',\n",
              " 'my',\n",
              " 'expertise',\n",
              " 'are',\n",
              " 'in',\n",
              " 'Python',\n",
              " ',',\n",
              " 'Django',\n",
              " ',',\n",
              " 'GIS',\n",
              " ',',\n",
              " 'Databases',\n",
              " ',',\n",
              " 'QGIS',\n",
              " 'and',\n",
              " 'Generative',\n",
              " 'AI',\n",
              " '.',\n",
              " 'I',\n",
              " \"'m\",\n",
              " 'top',\n",
              " 'rated',\n",
              " 'at',\n",
              " 'upwork',\n",
              " 'and',\n",
              " 'work',\n",
              " 'as',\n",
              " 'part-time',\n",
              " 'freelancer',\n",
              " '.']"
            ]
          },
          "metadata": {},
          "execution_count": 12
        }
      ]
    },
    {
      "cell_type": "code",
      "source": [
        "punct_words = wordpunct_tokenize(corpus)"
      ],
      "metadata": {
        "id": "pUTS--6D0yrB"
      },
      "execution_count": 13,
      "outputs": []
    },
    {
      "cell_type": "code",
      "source": [
        "punct_words"
      ],
      "metadata": {
        "colab": {
          "base_uri": "https://localhost:8080/"
        },
        "id": "QzJjBdoZ05Sf",
        "outputId": "0acde2f2-b1e8-4844-a09b-ca3999f2185a"
      },
      "execution_count": 14,
      "outputs": [
        {
          "output_type": "execute_result",
          "data": {
            "text/plain": [
              "['Hello',\n",
              " ',',\n",
              " 'It',\n",
              " \"'\",\n",
              " 's',\n",
              " 'Farhan',\n",
              " 'here',\n",
              " '.',\n",
              " 'I',\n",
              " \"'\",\n",
              " 'm',\n",
              " 'a',\n",
              " 'software',\n",
              " 'engineer',\n",
              " 'and',\n",
              " 'my',\n",
              " 'expertise',\n",
              " 'are',\n",
              " 'in',\n",
              " 'Python',\n",
              " ',',\n",
              " 'Django',\n",
              " ',',\n",
              " 'GIS',\n",
              " ',',\n",
              " 'Databases',\n",
              " ',',\n",
              " 'QGIS',\n",
              " 'and',\n",
              " 'Generative',\n",
              " 'AI',\n",
              " '.',\n",
              " 'I',\n",
              " \"'\",\n",
              " 'm',\n",
              " 'top',\n",
              " 'rated',\n",
              " 'at',\n",
              " 'upwork',\n",
              " 'and',\n",
              " 'work',\n",
              " 'as',\n",
              " 'part',\n",
              " '-',\n",
              " 'time',\n",
              " 'freelancer',\n",
              " '.']"
            ]
          },
          "metadata": {},
          "execution_count": 14
        }
      ]
    },
    {
      "cell_type": "code",
      "source": [
        "from nltk.tokenize import TreebankWordTokenizer"
      ],
      "metadata": {
        "id": "BYUNxRTQ07HR"
      },
      "execution_count": 15,
      "outputs": []
    },
    {
      "cell_type": "code",
      "source": [
        "tokenizer = TreebankWordTokenizer()"
      ],
      "metadata": {
        "id": "zMnMzzHa1Wpx"
      },
      "execution_count": 16,
      "outputs": []
    },
    {
      "cell_type": "code",
      "source": [
        "words_treebank = tokenizer.tokenize(corpus)"
      ],
      "metadata": {
        "id": "aXr3hH8y1ZUk"
      },
      "execution_count": 17,
      "outputs": []
    },
    {
      "cell_type": "code",
      "source": [
        "words_treebank"
      ],
      "metadata": {
        "colab": {
          "base_uri": "https://localhost:8080/"
        },
        "id": "2rTii0ef1lYE",
        "outputId": "1b7a3be7-7efc-41b5-a039-83a8eeede722"
      },
      "execution_count": 18,
      "outputs": [
        {
          "output_type": "execute_result",
          "data": {
            "text/plain": [
              "['Hello',\n",
              " ',',\n",
              " 'It',\n",
              " \"'s\",\n",
              " 'Farhan',\n",
              " 'here.',\n",
              " 'I',\n",
              " \"'m\",\n",
              " 'a',\n",
              " 'software',\n",
              " 'engineer',\n",
              " 'and',\n",
              " 'my',\n",
              " 'expertise',\n",
              " 'are',\n",
              " 'in',\n",
              " 'Python',\n",
              " ',',\n",
              " 'Django',\n",
              " ',',\n",
              " 'GIS',\n",
              " ',',\n",
              " 'Databases',\n",
              " ',',\n",
              " 'QGIS',\n",
              " 'and',\n",
              " 'Generative',\n",
              " 'AI.',\n",
              " 'I',\n",
              " \"'m\",\n",
              " 'top',\n",
              " 'rated',\n",
              " 'at',\n",
              " 'upwork',\n",
              " 'and',\n",
              " 'work',\n",
              " 'as',\n",
              " 'part-time',\n",
              " 'freelancer',\n",
              " '.']"
            ]
          },
          "metadata": {},
          "execution_count": 18
        }
      ]
    },
    {
      "cell_type": "code",
      "source": [],
      "metadata": {
        "id": "0oAtoJpl1m37"
      },
      "execution_count": null,
      "outputs": []
    }
  ]
}