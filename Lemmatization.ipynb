{
  "nbformat": 4,
  "nbformat_minor": 0,
  "metadata": {
    "colab": {
      "provenance": [],
      "authorship_tag": "ABX9TyNz5i22o3KvEOQWiOJO8UDZ",
      "include_colab_link": true
    },
    "kernelspec": {
      "name": "python3",
      "display_name": "Python 3"
    },
    "language_info": {
      "name": "python"
    }
  },
  "cells": [
    {
      "cell_type": "markdown",
      "metadata": {
        "id": "view-in-github",
        "colab_type": "text"
      },
      "source": [
        "<a href=\"https://colab.research.google.com/github/FarhanSE/Generative-AI-with-Langchain-Portfolio-Project/blob/dev/Lemmatization.ipynb\" target=\"_parent\"><img src=\"https://colab.research.google.com/assets/colab-badge.svg\" alt=\"Open In Colab\"/></a>"
      ]
    },
    {
      "cell_type": "markdown",
      "source": [
        "## Lemmatization\n",
        "\n",
        "Lemmatization is a technique like stemming. The output we will get after lemmatization is called \"lemma\" which is root of the word rather than root stem.\n",
        "\n",
        "The WordNet Lemmatization class search the lemma from Wordnet Corpus, WorldNet is largest database for English Nouns, Verbs...\n",
        "\n",
        "\n",
        "The Part Of Speech tag. Valid options are \"n\" for nouns,\n",
        "\"v\" for verbs, \"a\" for adjectives, \"r\" for adverbs and \"s\"\n",
        "for satellite adjectives."
      ],
      "metadata": {
        "id": "Ssf-jSWuwF4T"
      }
    },
    {
      "cell_type": "code",
      "source": [
        "import nltk\n",
        "nltk.download('wordnet')"
      ],
      "metadata": {
        "colab": {
          "base_uri": "https://localhost:8080/"
        },
        "id": "ZbciI3WZ0G5e",
        "outputId": "2c775681-f9c4-416b-e37b-5b1ab6f6575f"
      },
      "execution_count": 4,
      "outputs": [
        {
          "output_type": "stream",
          "name": "stderr",
          "text": [
            "[nltk_data] Downloading package wordnet to /root/nltk_data...\n"
          ]
        },
        {
          "output_type": "execute_result",
          "data": {
            "text/plain": [
              "True"
            ]
          },
          "metadata": {},
          "execution_count": 4
        }
      ]
    },
    {
      "cell_type": "code",
      "execution_count": 5,
      "metadata": {
        "id": "1YbwWeDPv6w-"
      },
      "outputs": [],
      "source": [
        "from nltk.stem import WordNetLemmatizer\n",
        "lemmatizer = WordNetLemmatizer()\n"
      ]
    },
    {
      "cell_type": "code",
      "source": [
        "words = [\"eating\", \"eats\", \"ate\", \"eat\", \"adjustable\", \"rafting\", \"ability\", \"meeting\", \"better\", \"playing\", \"running\"]"
      ],
      "metadata": {
        "id": "-nRybFZny7TI"
      },
      "execution_count": 6,
      "outputs": []
    },
    {
      "cell_type": "code",
      "source": [
        "[f\"{word} ------->> {lemmatizer.lemmatize(word, pos='v')}\" for word in words]"
      ],
      "metadata": {
        "colab": {
          "base_uri": "https://localhost:8080/"
        },
        "id": "-DZ_3-kNzF5p",
        "outputId": "01a92389-6ab6-424f-fac7-2f20c657b7c9"
      },
      "execution_count": 8,
      "outputs": [
        {
          "output_type": "execute_result",
          "data": {
            "text/plain": [
              "['eating ------->> eat',\n",
              " 'eats ------->> eat',\n",
              " 'ate ------->> eat',\n",
              " 'eat ------->> eat',\n",
              " 'adjustable ------->> adjustable',\n",
              " 'rafting ------->> raft',\n",
              " 'ability ------->> ability',\n",
              " 'meeting ------->> meet',\n",
              " 'better ------->> better',\n",
              " 'playing ------->> play',\n",
              " 'running ------->> run']"
            ]
          },
          "metadata": {},
          "execution_count": 8
        }
      ]
    },
    {
      "cell_type": "code",
      "source": [],
      "metadata": {
        "id": "FumihNasz7eJ"
      },
      "execution_count": null,
      "outputs": []
    }
  ]
}