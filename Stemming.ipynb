{
  "nbformat": 4,
  "nbformat_minor": 0,
  "metadata": {
    "colab": {
      "provenance": [],
      "authorship_tag": "ABX9TyPPp+SO6M2PYgU29RbyXXk+",
      "include_colab_link": true
    },
    "kernelspec": {
      "name": "python3",
      "display_name": "Python 3"
    },
    "language_info": {
      "name": "python"
    }
  },
  "cells": [
    {
      "cell_type": "markdown",
      "metadata": {
        "id": "view-in-github",
        "colab_type": "text"
      },
      "source": [
        "<a href=\"https://colab.research.google.com/github/FarhanSE/Generative-AI-with-Langchain-Portfolio-Project/blob/dev/Stemming.ipynb\" target=\"_parent\"><img src=\"https://colab.research.google.com/assets/colab-badge.svg\" alt=\"Open In Colab\"/></a>"
      ]
    },
    {
      "cell_type": "markdown",
      "source": [
        "## Stemming\n",
        "\n",
        "Stemming is a process of reducing the word to it's stem word that affixes to suffixes and prefixes or to the root of the word that is known as Lemma."
      ],
      "metadata": {
        "id": "s6BLK0UBU0Iz"
      }
    },
    {
      "cell_type": "code",
      "source": [
        "words = ['wait', 'waiting', 'waited', 'waits', 'waited', \"talk\", \"talking\", \"talked\", \"talks\", \"programing\", \"program\", \"programs\", \"programmed\", \"programmers\", \"eat\", \"eating\", \"eats\", \"ate\", \"eating\"]"
      ],
      "metadata": {
        "id": "DhUdSu1CVW6p"
      },
      "execution_count": 1,
      "outputs": []
    },
    {
      "cell_type": "markdown",
      "source": [
        "### Porter Stemmer"
      ],
      "metadata": {
        "id": "idmWZRDNVvsW"
      }
    },
    {
      "cell_type": "code",
      "source": [
        "from nltk.stem import PorterStemmer\n",
        "stemmer = PorterStemmer()"
      ],
      "metadata": {
        "id": "AFTF5_YUVtIq"
      },
      "execution_count": 2,
      "outputs": []
    },
    {
      "cell_type": "code",
      "source": [
        "[f\"{word} ---> {stemmer.stem(word)}\" for word in words]"
      ],
      "metadata": {
        "colab": {
          "base_uri": "https://localhost:8080/"
        },
        "id": "u_qNvgzuWCir",
        "outputId": "e0806b75-c832-4e08-c54f-802b416baa88"
      },
      "execution_count": 4,
      "outputs": [
        {
          "output_type": "execute_result",
          "data": {
            "text/plain": [
              "['wait ---> wait',\n",
              " 'waiting ---> wait',\n",
              " 'waited ---> wait',\n",
              " 'waits ---> wait',\n",
              " 'waited ---> wait',\n",
              " 'talk ---> talk',\n",
              " 'talking ---> talk',\n",
              " 'talked ---> talk',\n",
              " 'talks ---> talk',\n",
              " 'programing ---> program',\n",
              " 'program ---> program',\n",
              " 'programs ---> program',\n",
              " 'programmed ---> program',\n",
              " 'programmers ---> programm',\n",
              " 'eat ---> eat',\n",
              " 'eating ---> eat',\n",
              " 'eats ---> eat',\n",
              " 'ate ---> ate',\n",
              " 'eating ---> eat']"
            ]
          },
          "metadata": {},
          "execution_count": 4
        }
      ]
    },
    {
      "cell_type": "markdown",
      "source": [
        "### RegexpStemmer\n",
        "\n",
        "It take a regular expression and removes any prefix or sufix that matches the expression.\n",
        "\n"
      ],
      "metadata": {
        "id": "J8ggm9bSZGQs"
      }
    },
    {
      "cell_type": "code",
      "source": [
        "from nltk.stem import RegexpStemmer\n",
        "stemmer = RegexpStemmer('ing$|s$|e$|able$', min=4)"
      ],
      "metadata": {
        "id": "2kHps1sMWnge"
      },
      "execution_count": 16,
      "outputs": []
    },
    {
      "cell_type": "code",
      "source": [
        "stemmer.stem('eating')"
      ],
      "metadata": {
        "colab": {
          "base_uri": "https://localhost:8080/",
          "height": 35
        },
        "id": "9hyebvpEZyj0",
        "outputId": "0e29b060-1d76-4bc8-ebd4-5e99142ce09a"
      },
      "execution_count": 6,
      "outputs": [
        {
          "output_type": "execute_result",
          "data": {
            "text/plain": [
              "'eat'"
            ],
            "application/vnd.google.colaboratory.intrinsic+json": {
              "type": "string"
            }
          },
          "metadata": {},
          "execution_count": 6
        }
      ]
    },
    {
      "cell_type": "code",
      "source": [
        "stemmer.stem('available')"
      ],
      "metadata": {
        "colab": {
          "base_uri": "https://localhost:8080/",
          "height": 35
        },
        "id": "NG0ziymQZ7cf",
        "outputId": "d654da8d-ccd3-41b8-d9de-3940f28873a6"
      },
      "execution_count": 8,
      "outputs": [
        {
          "output_type": "execute_result",
          "data": {
            "text/plain": [
              "'avail'"
            ],
            "application/vnd.google.colaboratory.intrinsic+json": {
              "type": "string"
            }
          },
          "metadata": {},
          "execution_count": 8
        }
      ]
    },
    {
      "cell_type": "markdown",
      "source": [
        "### Snowball Stemmer"
      ],
      "metadata": {
        "id": "hAG9rYJHhB4n"
      }
    },
    {
      "cell_type": "code",
      "source": [
        "from nltk.stem import SnowballStemmer\n",
        "snow_stemmer = SnowballStemmer('english')"
      ],
      "metadata": {
        "id": "qzIe6mYMZ-aq"
      },
      "execution_count": 10,
      "outputs": []
    },
    {
      "cell_type": "code",
      "source": [
        "[f\"{word} ----->> {snow_stemmer.stem(word)}\" for word in words]"
      ],
      "metadata": {
        "colab": {
          "base_uri": "https://localhost:8080/"
        },
        "id": "8YdvB3-QiRCc",
        "outputId": "e12c2053-f018-4efa-e7f2-a83ae1e23cfd"
      },
      "execution_count": 11,
      "outputs": [
        {
          "output_type": "execute_result",
          "data": {
            "text/plain": [
              "['wait ----->> wait',\n",
              " 'waiting ----->> wait',\n",
              " 'waited ----->> wait',\n",
              " 'waits ----->> wait',\n",
              " 'waited ----->> wait',\n",
              " 'talk ----->> talk',\n",
              " 'talking ----->> talk',\n",
              " 'talked ----->> talk',\n",
              " 'talks ----->> talk',\n",
              " 'programing ----->> program',\n",
              " 'program ----->> program',\n",
              " 'programs ----->> program',\n",
              " 'programmed ----->> program',\n",
              " 'programmers ----->> programm',\n",
              " 'eat ----->> eat',\n",
              " 'eating ----->> eat',\n",
              " 'eats ----->> eat',\n",
              " 'ate ----->> ate',\n",
              " 'eating ----->> eat']"
            ]
          },
          "metadata": {},
          "execution_count": 11
        }
      ]
    },
    {
      "cell_type": "code",
      "source": [
        "snow_stemmer.stem(\"History\")"
      ],
      "metadata": {
        "colab": {
          "base_uri": "https://localhost:8080/",
          "height": 35
        },
        "id": "Ge6wk6rHihSS",
        "outputId": "64f4f727-4a41-4263-b477-d4c411b6b6cb"
      },
      "execution_count": 13,
      "outputs": [
        {
          "output_type": "execute_result",
          "data": {
            "text/plain": [
              "'histori'"
            ],
            "application/vnd.google.colaboratory.intrinsic+json": {
              "type": "string"
            }
          },
          "metadata": {},
          "execution_count": 13
        }
      ]
    },
    {
      "cell_type": "markdown",
      "source": [
        "Stemming is only good if you are going for text classification or Sentiment as we have seen there are many words which it cannot stem properly althrough the **Snowball Stemmer** is far better than **RegexpStemmer**"
      ],
      "metadata": {
        "id": "mgR1J_9Witxp"
      }
    },
    {
      "cell_type": "code",
      "source": [
        "stemmer.stem(\"Fairly\"), snow_stemmer.stem(\"Fairly\")"
      ],
      "metadata": {
        "colab": {
          "base_uri": "https://localhost:8080/"
        },
        "id": "YYzAc-tmioS8",
        "outputId": "95574e41-45d0-4660-90b8-49d37b625bdf"
      },
      "execution_count": 18,
      "outputs": [
        {
          "output_type": "execute_result",
          "data": {
            "text/plain": [
              "('Fairly', 'fair')"
            ]
          },
          "metadata": {},
          "execution_count": 18
        }
      ]
    },
    {
      "cell_type": "code",
      "source": [],
      "metadata": {
        "id": "fSVVCLBUjYXK"
      },
      "execution_count": null,
      "outputs": []
    }
  ]
}